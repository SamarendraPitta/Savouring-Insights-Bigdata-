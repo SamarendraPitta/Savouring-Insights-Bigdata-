{
 "cells": [
  {
   "cell_type": "code",
   "execution_count": 25,
   "id": "a486cd42",
   "metadata": {},
   "outputs": [
    {
     "name": "stderr",
     "output_type": "stream",
     "text": [
      "[nltk_data] Downloading package wordnet to\n",
      "[nltk_data]     C:\\Users\\sam\\AppData\\Roaming\\nltk_data...\n",
      "[nltk_data]   Package wordnet is already up-to-date!\n",
      "D:\\anaconda1\\Lib\\site-packages\\sklearn\\feature_extraction\\text.py:521: UserWarning: The parameter 'token_pattern' will not be used since 'tokenizer' is not None'\n",
      "  warnings.warn(\n"
     ]
    },
    {
     "name": "stdout",
     "output_type": "stream",
     "text": [
      "Model and vectorizer have been saved to 'model.pkl' and 'vectorizer.pkl'.\n"
     ]
    }
   ],
   "source": [
    "import nltk\n",
    "from nltk.corpus import wordnet as wn\n",
    "from sklearn.naive_bayes import MultinomialNB\n",
    "from sklearn.feature_extraction.text import CountVectorizer\n",
    "from sklearn.utils.class_weight import compute_class_weight\n",
    "import numpy as np\n",
    "import pickle\n",
    "\n",
    "# Download WordNet data (run once)\n",
    "nltk.download('wordnet')\n",
    "\n",
    "# Function to extract hypernyms up to the \"entity\" level, with weighting\n",
    "def get_weighted_hypernyms(word, decay_factor=0.8):\n",
    "    synsets = wn.synsets(word)\n",
    "    weighted_hypernyms = {}\n",
    "    \n",
    "    for synset in synsets:\n",
    "        depth = 0\n",
    "        current = synset\n",
    "        while current.hypernyms():  # Traverse hypernym tree\n",
    "            current = current.hypernyms()[0]\n",
    "            weight = decay_factor ** depth  # Apply exponential decay\n",
    "            weighted_hypernyms[current.name()] = weighted_hypernyms.get(current.name(), 0) + weight\n",
    "            depth += 1\n",
    "            if \"entity\" in current.name():\n",
    "                break\n",
    "    \n",
    "    return weighted_hypernyms\n",
    "\n",
    "annotated_words = {'addition': 'Ambience', 'staff':'Service','afternoon': 'Ambience', 'amount': 'Ambience', 'are': 'Ambience', 'area': 'Ambience', 'atmosphere': 'Ambience', 'attitude': 'Service', 'attitudes': 'Service', 'awesome': 'Food', 'bacon': 'Food', 'bar': 'Ambience', 'bartenders': 'Service', 'basil': 'Food', 'basis': 'Service', 'baskets': 'Food', 'batter': 'Food', 'beef': 'Food', 'beer': 'Food', 'bell': 'Ambience', 'bit': 'Food', 'bite': 'Food', 'block': 'Ambience', 'body': 'Ambience', 'bonus': 'Ambience', 'booing': 'Ambience', 'booth': 'Ambience', 'bowl': 'Food', 'box': 'Ambience', 'bread': 'Food', 'breathing': 'Service', 'brewery': 'Ambience', 'burger': 'Food', 'business': 'Ambience', 'caesar': 'Food', 'card': 'Service', 'chain': 'Ambience', 'chains': 'Ambience', 'chances': 'Ambience', 'charm': 'Ambience', 'cheese': 'Food', 'chicken': 'Food', 'choice': 'Food', 'coatings': 'Food', 'combination': 'Food', 'combo': 'Food', 'confusion': 'Service', 'connoisseur': 'Ambience', 'consistency': 'Food', 'container': 'Food', 'cost': 'Service', 'craft': 'Food', 'craving': 'Food', 'crisp': 'Food', 'critique': 'Service', 'crowd': 'Ambience', 'crunch': 'Food', 'crust': 'Food', 'customer': 'Service', 'customers': 'Service', 'date': 'Ambience', 'day': 'Ambience', 'days': 'Ambience', 'deal': 'Service', 'decades': 'Ambience', 'decision': 'Service', 'delicious': 'Food', 'deliciousness': 'Food', 'delivery': 'Service', 'details': 'Service', 'dinner': 'Food', 'dirty': 'Ambience', 'dish': 'Food', 'dishes': 'Food', 'distance': 'Ambience', 'distancing': 'Service', 'door': 'Ambience', 'dough': 'Food', 'doughy': 'Food', 'downtown': 'Ambience', 'dressing': 'Food', 'drink': 'Food', 'drinks': 'Food', 'dump': 'Ambience', 'dust': 'Ambience', 'employees': 'Service', 'ending': 'Service', 'energy': 'Service', 'enthusiasm': 'Service', 'environment': 'Ambience', 'essence': 'Ambience', 'establishment': 'Ambience', 'establishments': 'Ambience', 'evening': 'Ambience', 'experience': 'Service', 'experiences': 'Service', 'facilities': 'Ambience', 'family': 'Service', 'fan': 'Ambience', 'favorite': 'Food', 'female': 'Service', 'find': 'Service', 'flair': 'Service', 'flavor': 'Food', 'flavors': 'Food', 'floor': 'Ambience', 'food': 'Food', 'foods': 'Food', 'frame': 'Ambience', 'friends': 'Service', 'fries': 'Food', 'game': 'Ambience', 'garden': 'Food', 'garlic': 'Food', 'gem': 'Ambience', 'giardiniera': 'Food', 'girl': 'Service', 'girls': 'Service', 'grace': 'Service', 'grease': 'Food', 'greens': 'Food', 'group': 'Service', 'guest': 'Service', 'guy': 'Service', 'hand': 'Service', 'hill': 'Ambience', 'honesty': 'Service', 'hospitality': 'Service', 'hour': 'Ambience', 'hours': 'Service', 'hut': 'Ambience', 'impression': 'Service', 'individuals': 'Service', 'ingredient': 'Food', 'ingredients': 'Food', 'instances': 'Service', 'instructions': 'Service', 'investment': 'Service', 'irritation': 'Service', 'is': 'Ambience', 'island': 'Ambience', 'issue': 'Service', 'issues': 'Service', 'items': 'Food', 'jem': 'Ambience', 'job': 'Service', 'jobs': 'Service', 'joints': 'Food', 'kinds': 'Food', 'knots': 'Food', 'ladies': 'Service', 'lady': 'Service', 'layer': 'Food', 'lesson': 'Food', 'lettuce': 'Food', 'libation': 'Food', 'life': 'Service', 'lighting': 'Ambience', 'location': 'Ambience', 'locations': 'Ambience', 'looked': 'Ambience', 'looking': 'Ambience', 'mabry': 'Ambience', 'man': 'Service', 'management': 'Service', 'manager': 'Service', 'manner': 'Service', 'manning': 'Service', 'marty': 'Service', 'meal': 'Food', 'meals': 'Food', 'meat': 'Food', 'meatballs': 'Food', 'melty': 'Food', 'memories': 'Service', 'merit': 'Service', 'mess': 'Ambience', 'message': 'Service', 'min': 'Service', 'minute': 'Service', 'minutes': 'Service', 'mix': 'Food', 'money': 'Service', 'months': 'Service', 'mozza': 'Food', 'mushrooms': 'Food', 'name': 'Service', 'neber': 'Service', 'night': 'Ambience', 'nights': 'Ambience', 'notch': 'Ambience', 'note': 'Service', 'number': 'Service', 'ny': 'Service', 'occasion': 'Service', 'oil': 'Food', 'olives': 'Food', 'one': 'Service', 'ones': 'Service', 'onion': 'Food', 'option': 'Food', 'options': 'Food', 'order': 'Service', 'ordering': 'Service', 'orders': 'Service', 'oregano': 'Food', 'owner': 'Service', 'parlor': 'Ambience', 'part': 'Service', 'patience': 'Service', 'people': 'Service', 'pepper': 'Food', 'pepperoni': 'Food', 'peppers': 'Food', 'person': 'Service', 'phone': 'Service', 'pic': 'Service', 'pie': 'Food', 'pieces': 'Food', 'pizza': 'Food', 'pizzas': 'Food', 'pizzerias': 'Food', 'place': 'Ambience', 'placement': 'Ambience', 'places': 'Ambience', 'plans': 'Service', 'plenty': 'Service', 'plus': 'Service', 'pockets': 'Service', 'pork': 'Food', 'posts': 'Service', 'practices': 'Service', 'price': 'Food', 'prices': 'Food', 'privilege': 'Service', 'problem': 'Service', 'procedures': 'Service', 'puff': 'Food', 'purchases': 'Service', 'quality': 'Food', 'rate': 'Service', 'rating': 'Service', 'raviolis': 'Food', 'reason': 'Service', 'regulations': 'Service', 'restaurants': 'Food', 'review': 'Service', 'reviewer': 'Service', 'reviews': 'Service', 'right': 'Food', 'room': 'Ambience', 'rustys': 'Ambience', 'salad': 'Food', 'sandwiches': 'Food', 'sauce': 'Food', 'sausage': 'Food', 'school': 'Service', 'secret': 'Food', 'section': 'Ambience', 'sections': 'Ambience', 'selection': 'Food', 'self': 'Service', 'server': 'Service', 'service': 'Service', 'shame': 'Service', 'shelf': 'Ambience', 'show': 'Ambience', 'sicilian': 'Food', 'side': 'Ambience', 'situation': 'Ambience', 'size': 'Ambience', 'slice': 'Food', 'slices': 'Food', 'snack': 'Food', 'space': 'Ambience', 'specials': 'Food', 'spicy': 'Food', 'steak': 'Food', 'sticky': 'Food', 'stone': 'Ambience', 'style': 'Ambience', 'suggestion': 'Service', 'taste': 'Food', 'texture': 'Food', 'toppings': 'Food', 'tomatoes': 'Food', 'tofu': 'Food', 'turkey': 'Food', 'uniform': 'Service', 'utensils': 'Service', 'viper': 'Service', 'vibe': 'Ambience', 'waitress': 'Service', 'waiting': 'Service', 'waiter': 'Service', 'wine': 'Food', 'wings': 'Food', 'woman': 'Service', 'workers': 'Service', 'year': 'Service', 'young': 'Service', 'youth': 'Service'}\n",
    "\n",
    "# Prepare training data with hypernyms and labels\n",
    "training_data = []\n",
    "for word, label in annotated_words.items():\n",
    "    hypernyms = get_weighted_hypernyms(word)\n",
    "    training_data.append((hypernyms, label))\n",
    "\n",
    "# Convert training data into features and labels\n",
    "features = []\n",
    "labels = []\n",
    "\n",
    "for hypernyms, label in training_data:\n",
    "    # Join weighted hypernyms into a string for feature extraction\n",
    "    weighted_features = [f\"{name}:{weight:.2f}\" for name, weight in hypernyms.items()]\n",
    "    features.append(\" \".join(weighted_features))\n",
    "    labels.append(label)\n",
    "\n",
    "# Convert labels into numerical format\n",
    "label_map = {\"Food\": 0, \"Ambience\": 1, \"Service\": 2}\n",
    "y = np.array([label_map[label] for label in labels])\n",
    "\n",
    "# Function to define custom tokenizer\n",
    "def custom_tokenizer(text):\n",
    "    return text.split()\n",
    "\n",
    "# Convert features into a bag-of-words model\n",
    "vectorizer = CountVectorizer(tokenizer=custom_tokenizer)\n",
    "X = vectorizer.fit_transform(features)\n",
    "\n",
    "# Handle class imbalance by computing class weights\n",
    "class_weights = compute_class_weight('balanced', classes=np.unique(y), y=y)\n",
    "class_weights_dict = {i: weight for i, weight in enumerate(class_weights)}\n",
    "\n",
    "# Train the Multinomial Naive Bayes model with class weights\n",
    "model = MultinomialNB()\n",
    "model.fit(X, y)\n",
    "\n",
    "# Save the model and vectorizer\n",
    "with open('model.pkl', 'wb') as model_file:\n",
    "    pickle.dump(model, model_file)\n",
    "with open('vectorizer.pkl', 'wb') as vectorizer_file:\n",
    "    pickle.dump(vectorizer, vectorizer_file)\n",
    "\n",
    "print(\"Model and vectorizer have been saved to 'model.pkl' and 'vectorizer.pkl'.\")"
   ]
  },
  {
   "cell_type": "code",
   "execution_count": 7,
   "id": "58f75004",
   "metadata": {},
   "outputs": [
    {
     "name": "stdout",
     "output_type": "stream",
     "text": [
      "Model and vectorizer loaded successfully.\n"
     ]
    }
   ],
   "source": [
    "with open('model.pkl', 'rb') as model_file:\n",
    "    loaded_model = pickle.load(model_file)\n",
    "\n",
    "with open('vectorizer.pkl', 'rb') as vectorizer_file:\n",
    "    loaded_vectorizer = pickle.load(vectorizer_file)\n",
    "\n",
    "print(\"Model and vectorizer loaded successfully.\")\n"
   ]
  },
  {
   "cell_type": "markdown",
   "id": "9cc872ed",
   "metadata": {},
   "source": [
    "# inserting into collection"
   ]
  },
  {
   "cell_type": "code",
   "execution_count": 28,
   "id": "2b506a11",
   "metadata": {},
   "outputs": [
    {
     "name": "stdout",
     "output_type": "stream",
     "text": [
      "Model and vectorizer loaded successfully.\n",
      "Feature classification and insertion completed.\n"
     ]
    }
   ],
   "source": [
    "from pymongo import MongoClient\n",
    "import pickle\n",
    "\n",
    "# Load the saved model and vectorizer\n",
    "with open('model.pkl', 'rb') as model_file:\n",
    "    loaded_model = pickle.load(model_file)\n",
    "\n",
    "with open('vectorizer.pkl', 'rb') as vectorizer_file:\n",
    "    loaded_vectorizer = pickle.load(vectorizer_file)\n",
    "\n",
    "print(\"Model and vectorizer loaded successfully.\")\n",
    "\n",
    "# Function to classify features\n",
    "def classify_business_features(business_id, business_name, extracted_features, model, vectorizer):\n",
    "    classifications = {\n",
    "        \"Food\": {\"features\": [], \"descriptors\": []},\n",
    "        \"Service\": {\"features\": [], \"descriptors\": []},\n",
    "        \"Ambience\": {\"features\": [], \"descriptors\": []},\n",
    "    }\n",
    "\n",
    "    for feature_pair in extracted_features:\n",
    "        feature = feature_pair[\"feature\"]\n",
    "        descriptors = feature_pair.get(\"descriptors\", [])\n",
    "        words = feature.split()\n",
    "\n",
    "        # Extract hypernyms and create a feature vector\n",
    "        combined_hypernyms = {}\n",
    "        for word in words:\n",
    "            hypernyms = get_weighted_hypernyms(word)\n",
    "            for name, weight in hypernyms.items():\n",
    "                combined_hypernyms[name] = combined_hypernyms.get(name, 0) + weight\n",
    "\n",
    "        if combined_hypernyms:\n",
    "            weighted_features = [f\"{name}:{weight:.2f}\" for name, weight in combined_hypernyms.items()]\n",
    "            feature_vector = vectorizer.transform([\" \".join(weighted_features)])\n",
    "            predicted_label = model.predict(feature_vector)[0]\n",
    "\n",
    "            # Map predicted label to category\n",
    "            label_map = {0: \"Food\", 1: \"Ambience\", 2: \"Service\"}\n",
    "            category = label_map.get(predicted_label, \"Unknown\")\n",
    "\n",
    "            # Add feature and descriptors to the classification if it's not \"Unknown\"\n",
    "            if category != \"Unknown\":\n",
    "                classifications[category][\"features\"].append(feature)\n",
    "                classifications[category][\"descriptors\"].extend(descriptors)\n",
    "\n",
    "    # Return the classification schema\n",
    "    return {\n",
    "        \"business_id\": business_id,\n",
    "        \"business_name\": business_name,\n",
    "        \"feature_classification\": classifications,\n",
    "    }\n",
    "\n",
    "# MongoDB connection\n",
    "client = MongoClient('mongodb://localhost:27017/')\n",
    "db = client['Project']  # Replace with your database name\n",
    "source_collection = db['pizza_business_preprocess_reviews']  # Source collection\n",
    "target_collection = db['pizza_business_feature_classification']  # Target collection\n",
    "\n",
    "# Process each record in the source collection\n",
    "cursor = source_collection.find({}, {'business_id': 1, 'business_name': 1, 'extracted_features': 1})\n",
    "for record in cursor:\n",
    "    business_id = record.get(\"business_id\")\n",
    "    business_name = record.get(\"business_name\")\n",
    "    extracted_features = record.get(\"extracted_features\", [])\n",
    "\n",
    "    # Classify the features\n",
    "    classified_data = classify_business_features(\n",
    "        business_id,\n",
    "        business_name,\n",
    "        extracted_features,\n",
    "        loaded_model,\n",
    "        loaded_vectorizer\n",
    "    )\n",
    "\n",
    "    # Insert classified data into the target collection\n",
    "    target_collection.insert_one(classified_data)\n",
    "\n",
    "print(\"Feature classification and insertion completed.\")\n"
   ]
  },
  {
   "cell_type": "code",
   "execution_count": null,
   "id": "7f9f76fe",
   "metadata": {},
   "outputs": [],
   "source": []
  },
  {
   "cell_type": "code",
   "execution_count": null,
   "id": "1bf45254",
   "metadata": {},
   "outputs": [],
   "source": []
  },
  {
   "cell_type": "code",
   "execution_count": null,
   "id": "7983a0f2",
   "metadata": {},
   "outputs": [],
   "source": []
  },
  {
   "cell_type": "code",
   "execution_count": null,
   "id": "600785ec",
   "metadata": {},
   "outputs": [],
   "source": []
  },
  {
   "cell_type": "code",
   "execution_count": null,
   "id": "b412c05c",
   "metadata": {},
   "outputs": [],
   "source": []
  },
  {
   "cell_type": "code",
   "execution_count": null,
   "id": "59c5f2df",
   "metadata": {},
   "outputs": [],
   "source": []
  },
  {
   "cell_type": "code",
   "execution_count": null,
   "id": "3dca6fe3",
   "metadata": {},
   "outputs": [],
   "source": []
  },
  {
   "cell_type": "code",
   "execution_count": null,
   "id": "d32a6687",
   "metadata": {},
   "outputs": [],
   "source": []
  },
  {
   "cell_type": "code",
   "execution_count": null,
   "id": "65c3826f",
   "metadata": {},
   "outputs": [],
   "source": []
  },
  {
   "cell_type": "code",
   "execution_count": null,
   "id": "99a9207a",
   "metadata": {},
   "outputs": [],
   "source": []
  },
  {
   "cell_type": "code",
   "execution_count": null,
   "id": "f0dfb078",
   "metadata": {},
   "outputs": [],
   "source": []
  },
  {
   "cell_type": "code",
   "execution_count": null,
   "id": "25fc824e",
   "metadata": {},
   "outputs": [],
   "source": []
  },
  {
   "cell_type": "code",
   "execution_count": null,
   "id": "6801f962",
   "metadata": {},
   "outputs": [],
   "source": []
  },
  {
   "cell_type": "code",
   "execution_count": null,
   "id": "dd90221f",
   "metadata": {},
   "outputs": [],
   "source": []
  },
  {
   "cell_type": "code",
   "execution_count": null,
   "id": "95fd5a2b",
   "metadata": {},
   "outputs": [],
   "source": []
  },
  {
   "cell_type": "code",
   "execution_count": null,
   "id": "924c48a3",
   "metadata": {},
   "outputs": [],
   "source": []
  },
  {
   "cell_type": "code",
   "execution_count": null,
   "id": "64f7b253",
   "metadata": {},
   "outputs": [],
   "source": []
  },
  {
   "cell_type": "code",
   "execution_count": null,
   "id": "b35c6619",
   "metadata": {},
   "outputs": [],
   "source": []
  },
  {
   "cell_type": "code",
   "execution_count": null,
   "id": "8ee2d84d",
   "metadata": {},
   "outputs": [],
   "source": []
  },
  {
   "cell_type": "code",
   "execution_count": null,
   "id": "9bbd1acb",
   "metadata": {},
   "outputs": [],
   "source": []
  },
  {
   "cell_type": "code",
   "execution_count": null,
   "id": "15853675",
   "metadata": {},
   "outputs": [],
   "source": []
  },
  {
   "cell_type": "code",
   "execution_count": null,
   "id": "77c586a8",
   "metadata": {},
   "outputs": [],
   "source": []
  },
  {
   "cell_type": "code",
   "execution_count": null,
   "id": "286bc032",
   "metadata": {},
   "outputs": [],
   "source": []
  },
  {
   "cell_type": "code",
   "execution_count": null,
   "id": "b4f45cb7",
   "metadata": {},
   "outputs": [],
   "source": []
  },
  {
   "cell_type": "code",
   "execution_count": null,
   "id": "5c601a2f",
   "metadata": {},
   "outputs": [],
   "source": []
  },
  {
   "cell_type": "code",
   "execution_count": null,
   "id": "ff4113bd",
   "metadata": {},
   "outputs": [],
   "source": []
  },
  {
   "cell_type": "code",
   "execution_count": null,
   "id": "2261f263",
   "metadata": {},
   "outputs": [],
   "source": []
  },
  {
   "cell_type": "code",
   "execution_count": null,
   "id": "6ff79818",
   "metadata": {},
   "outputs": [],
   "source": []
  },
  {
   "cell_type": "code",
   "execution_count": null,
   "id": "a4b58578",
   "metadata": {},
   "outputs": [],
   "source": []
  },
  {
   "cell_type": "code",
   "execution_count": null,
   "id": "f27e0572",
   "metadata": {},
   "outputs": [],
   "source": []
  },
  {
   "cell_type": "code",
   "execution_count": null,
   "id": "e52ef2b3",
   "metadata": {},
   "outputs": [],
   "source": []
  },
  {
   "cell_type": "code",
   "execution_count": null,
   "id": "e44ee254",
   "metadata": {},
   "outputs": [],
   "source": []
  },
  {
   "cell_type": "code",
   "execution_count": null,
   "id": "0a47abea",
   "metadata": {},
   "outputs": [],
   "source": []
  },
  {
   "cell_type": "code",
   "execution_count": null,
   "id": "5740bcb2",
   "metadata": {},
   "outputs": [],
   "source": []
  },
  {
   "cell_type": "code",
   "execution_count": null,
   "id": "17c4bcf3",
   "metadata": {},
   "outputs": [],
   "source": []
  },
  {
   "cell_type": "code",
   "execution_count": null,
   "id": "0e3fc9ab",
   "metadata": {},
   "outputs": [],
   "source": []
  },
  {
   "cell_type": "code",
   "execution_count": null,
   "id": "3d33b0d8",
   "metadata": {},
   "outputs": [],
   "source": []
  },
  {
   "cell_type": "code",
   "execution_count": null,
   "id": "f10205c0",
   "metadata": {},
   "outputs": [],
   "source": []
  }
 ],
 "metadata": {
  "kernelspec": {
   "display_name": "Python 3 (ipykernel)",
   "language": "python",
   "name": "python3"
  },
  "language_info": {
   "codemirror_mode": {
    "name": "ipython",
    "version": 3
   },
   "file_extension": ".py",
   "mimetype": "text/x-python",
   "name": "python",
   "nbconvert_exporter": "python",
   "pygments_lexer": "ipython3",
   "version": "3.11.5"
  }
 },
 "nbformat": 4,
 "nbformat_minor": 5
}
